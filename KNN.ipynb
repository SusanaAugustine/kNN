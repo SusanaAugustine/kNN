{
 "cells": [
  {
   "cell_type": "code",
   "execution_count": 1,
   "metadata": {},
   "outputs": [
    {
     "data": {
      "text/plain": [
       "[4.5, 4.5]"
      ]
     },
     "execution_count": 1,
     "metadata": {},
     "output_type": "execute_result"
    }
   ],
   "source": [
    "train=[[1,2,3],[4,5,6],[7,8,9]]\n",
    "test = [[1,2], [2,4]]\n",
    "avg=[]\n",
    "for a in range(len(test)):\n",
    "    test1=[]\n",
    "    k=2\n",
    "    sum=0\n",
    "    diff=[]\n",
    "    test1.append(test[a])\n",
    "    d=[]\n",
    "    for row in train:\n",
    "        d.append(row[:-1])\n",
    "    for i in range (len(d)):\n",
    "        for j in range(len(test1[0])):\n",
    "            diff1=(train[i][j]-test1[0][j])**2\n",
    "            sum=sum+diff1\n",
    "        sqr=sum**0.5\n",
    "        diff.append([sqr,train[i][2]])\n",
    "    diff.sort\n",
    "    sum=0\n",
    "    for i in range(0,k):\n",
    "        for j in range(1):\n",
    "            sum=sum+diff[i][1] \n",
    "    avg1=sum/k\n",
    "    avg.append(avg1)\n",
    "avg"
   ]
  },
  {
   "cell_type": "code",
   "execution_count": null,
   "metadata": {},
   "outputs": [],
   "source": []
  }
 ],
 "metadata": {
  "kernelspec": {
   "display_name": "Python 3",
   "language": "python",
   "name": "python3"
  },
  "language_info": {
   "codemirror_mode": {
    "name": "ipython",
    "version": 3
   },
   "file_extension": ".py",
   "mimetype": "text/x-python",
   "name": "python",
   "nbconvert_exporter": "python",
   "pygments_lexer": "ipython3",
   "version": "3.7.4"
  }
 },
 "nbformat": 4,
 "nbformat_minor": 2
}
